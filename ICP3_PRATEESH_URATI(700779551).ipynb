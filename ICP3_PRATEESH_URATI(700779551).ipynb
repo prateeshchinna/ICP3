{
  "nbformat": 4,
  "nbformat_minor": 0,
  "metadata": {
    "colab": {
      "provenance": []
    },
    "kernelspec": {
      "name": "python3",
      "display_name": "Python 3"
    },
    "language_info": {
      "name": "python"
    }
  },
  "cells": [
    {
      "cell_type": "markdown",
      "source": [
        "# 1A"
      ],
      "metadata": {
        "id": "Fn6cmMmB3Ztj"
      }
    },
    {
      "cell_type": "code",
      "source": [
        "import numpy as np\n",
        "arr = np.random.randint(1, 21, size=15)\n",
        "print(\"Original Array:\", arr)\n",
        "\n",
        "reshaped = arr.reshape(3, 5)\n",
        "print(\"\\nReshaped Array (3x5):\\n\", reshaped)\n",
        "\n",
        "print(\"\\nShape of reshaped array:\", reshaped.shape)\n",
        "\n",
        "for i in range(reshaped.shape[0]):\n",
        "    row_max_index = np.argmax(reshaped[i])\n",
        "    reshaped[i][row_max_index] = 0\n",
        "\n",
        "print(\"\\nModified Array with row max replaced by 0:\\n\", reshaped)"
      ],
      "metadata": {
        "colab": {
          "base_uri": "https://localhost:8080/"
        },
        "id": "zCFJ4Eww3ULU",
        "outputId": "8c8ef050-d8a5-4ddf-b338-0e691e4ab422"
      },
      "execution_count": 1,
      "outputs": [
        {
          "output_type": "stream",
          "name": "stdout",
          "text": [
            "Original Array: [ 1 12  3 17 19 10  9 13  2 13  2 18 16 12  8]\n",
            "\n",
            "Reshaped Array (3x5):\n",
            " [[ 1 12  3 17 19]\n",
            " [10  9 13  2 13]\n",
            " [ 2 18 16 12  8]]\n",
            "\n",
            "Shape of reshaped array: (3, 5)\n",
            "\n",
            "Modified Array with row max replaced by 0:\n",
            " [[ 1 12  3 17  0]\n",
            " [10  9  0  2 13]\n",
            " [ 2  0 16 12  8]]\n"
          ]
        }
      ]
    },
    {
      "cell_type": "markdown",
      "source": [
        "1B"
      ],
      "metadata": {
        "id": "l26exi_R4DPN"
      }
    },
    {
      "cell_type": "code",
      "source": [
        "array_2d = np.zeros((4, 3), dtype=np.int32)\n",
        "print(\"2D Array:\\n\", array_2d)\n",
        "print(\"Shape:\", array_2d.shape)\n",
        "print(\"Type:\", type(array_2d))\n",
        "print(\"Data type:\", array_2d.dtype)"
      ],
      "metadata": {
        "colab": {
          "base_uri": "https://localhost:8080/"
        },
        "id": "Tm0OAd144EzT",
        "outputId": "318d88a4-9fd5-40e0-c96b-6943c57a151d"
      },
      "execution_count": 2,
      "outputs": [
        {
          "output_type": "stream",
          "name": "stdout",
          "text": [
            "2D Array:\n",
            " [[0 0 0]\n",
            " [0 0 0]\n",
            " [0 0 0]\n",
            " [0 0 0]]\n",
            "Shape: (4, 3)\n",
            "Type: <class 'numpy.ndarray'>\n",
            "Data type: int32\n"
          ]
        }
      ]
    },
    {
      "cell_type": "markdown",
      "source": [
        "1C"
      ],
      "metadata": {
        "id": "sYjbNtVP4Vy3"
      }
    },
    {
      "cell_type": "code",
      "source": [
        "from numpy.linalg import eig\n",
        "\n",
        "matrix = np.array([[3, -2],\n",
        "                   [1,  0]])\n",
        "\n",
        "values, vectors = eig(matrix)\n",
        "\n",
        "print(\"Eigenvalues:\", values)\n",
        "print(\"Eigenvectors:\\n\", vectors)"
      ],
      "metadata": {
        "colab": {
          "base_uri": "https://localhost:8080/"
        },
        "id": "BqrPnZvI4XAQ",
        "outputId": "086e9d48-c91c-4000-fd21-8a188e4368f9"
      },
      "execution_count": 3,
      "outputs": [
        {
          "output_type": "stream",
          "name": "stdout",
          "text": [
            "Eigenvalues: [2. 1.]\n",
            "Eigenvectors:\n",
            " [[0.89442719 0.70710678]\n",
            " [0.4472136  0.70710678]]\n"
          ]
        }
      ]
    },
    {
      "cell_type": "markdown",
      "source": [
        "# 1D"
      ],
      "metadata": {
        "id": "Ubg_-ysO4dqE"
      }
    },
    {
      "cell_type": "code",
      "source": [
        "array = np.array([[0, 1, 2],\n",
        "                  [3, 4, 5]])\n",
        "\n",
        "diagonal_sum = np.trace(array)\n",
        "print(\"Sum of diagonal elements:\", diagonal_sum)"
      ],
      "metadata": {
        "colab": {
          "base_uri": "https://localhost:8080/"
        },
        "id": "b38oSJQk4gNE",
        "outputId": "b4495bb6-3b64-4e56-959b-7ffc728b7d53"
      },
      "execution_count": 4,
      "outputs": [
        {
          "output_type": "stream",
          "name": "stdout",
          "text": [
            "Sum of diagonal elements: 4\n"
          ]
        }
      ]
    },
    {
      "cell_type": "markdown",
      "source": [
        "# 1E"
      ],
      "metadata": {
        "id": "lu1HVnDG4kaZ"
      }
    },
    {
      "cell_type": "code",
      "source": [
        "original = np.array([[1, 2],\n",
        "                     [3, 4],\n",
        "                     [5, 6]])\n",
        "\n",
        "reshaped = original.reshape(2, 3)\n",
        "print(\"Reshaped to 2x3:\\n\", reshaped)"
      ],
      "metadata": {
        "colab": {
          "base_uri": "https://localhost:8080/"
        },
        "id": "Bd39g77X4nZ8",
        "outputId": "b99735af-0404-458f-bf38-0361f7016ae0"
      },
      "execution_count": 5,
      "outputs": [
        {
          "output_type": "stream",
          "name": "stdout",
          "text": [
            "Reshaped to 2x3:\n",
            " [[1 2 3]\n",
            " [4 5 6]]\n"
          ]
        }
      ]
    }
  ]
}